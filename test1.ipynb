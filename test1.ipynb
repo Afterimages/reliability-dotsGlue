{
 "cells": [
  {
   "cell_type": "code",
   "execution_count": 1,
   "metadata": {},
   "outputs": [
    {
     "ename": "ModuleNotFoundError",
     "evalue": "No module named 'numpy'",
     "output_type": "error",
     "traceback": [
      "\u001b[1;31m---------------------------------------------------------------------------\u001b[0m",
      "\u001b[1;31mModuleNotFoundError\u001b[0m                       Traceback (most recent call last)",
      "Cell \u001b[1;32mIn[1], line 1\u001b[0m\n\u001b[1;32m----> 1\u001b[0m \u001b[38;5;28;01mimport\u001b[39;00m\u001b[38;5;250m \u001b[39m\u001b[38;5;21;01mnumpy\u001b[39;00m\u001b[38;5;250m \u001b[39m\u001b[38;5;28;01mas\u001b[39;00m\u001b[38;5;250m \u001b[39m\u001b[38;5;21;01mnp\u001b[39;00m\n\u001b[0;32m      2\u001b[0m \u001b[38;5;28;01mfrom\u001b[39;00m\u001b[38;5;250m \u001b[39m\u001b[38;5;21;01mlifelines\u001b[39;00m\u001b[38;5;250m \u001b[39m\u001b[38;5;28;01mimport\u001b[39;00m KaplanMeierFitter\n\u001b[0;32m      3\u001b[0m \u001b[38;5;28;01mfrom\u001b[39;00m\u001b[38;5;250m \u001b[39m\u001b[38;5;21;01mscipy\u001b[39;00m\u001b[38;5;21;01m.\u001b[39;00m\u001b[38;5;21;01mstats\u001b[39;00m\u001b[38;5;250m \u001b[39m\u001b[38;5;28;01mimport\u001b[39;00m weibull_min\n",
      "\u001b[1;31mModuleNotFoundError\u001b[0m: No module named 'numpy'"
     ]
    }
   ],
   "source": [
    "import numpy as np\n",
    "from lifelines import KaplanMeierFitter\n",
    "from scipy.stats import weibull_min\n",
    "\n",
    "# 数据输入\n",
    "data = np.array([10,12,12,13,14,14,14,15,15,15,16,16,16,17,17,18,19,20,20,20])\n",
    "\n",
    "# 1. Kaplan-Meier可靠度\n",
    "kmf = KaplanMeierFitter()\n",
    "kmf.fit(data, event_observed=np.ones_like(data))  # 所有样本均观察到失效\n",
    "print(\"可靠度表:\\n\", kmf.survival_function_)\n",
    "\n",
    "# 2. 威布尔参数拟合\n",
    "shape, loc, scale = weibull_min.fit(data, floc=0)\n",
    "print(f\"威布尔参数: β={shape:.2f}, η={scale:.1f}\")\n",
    "\n",
    "# 3. Bootstrap置信区间\n",
    "bootstrap_mttf = [np.mean(np.random.choice(data, size=20, replace=True)) for _ in range(1000)]\n",
    "ci = np.percentile(bootstrap_mttf, [2.5, 97.5])\n",
    "print(f\"MTTF 95%CI: {ci[0]:.1f}~{ci[1]:.1f}\")"
   ]
  },
  {
   "cell_type": "code",
   "execution_count": null,
   "metadata": {},
   "outputs": [],
   "source": []
  }
 ],
 "metadata": {
  "kernelspec": {
   "display_name": ".venv",
   "language": "python",
   "name": "python3"
  },
  "language_info": {
   "codemirror_mode": {
    "name": "ipython",
    "version": 3
   },
   "file_extension": ".py",
   "mimetype": "text/x-python",
   "name": "python",
   "nbconvert_exporter": "python",
   "pygments_lexer": "ipython3",
   "version": "3.10.15"
  }
 },
 "nbformat": 4,
 "nbformat_minor": 2
}
